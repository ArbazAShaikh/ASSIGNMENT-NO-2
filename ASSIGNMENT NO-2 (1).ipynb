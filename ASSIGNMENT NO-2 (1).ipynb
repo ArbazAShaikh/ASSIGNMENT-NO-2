{
 "cells": [
  {
   "cell_type": "markdown",
   "id": "7a8d42fa",
   "metadata": {},
   "source": [
    "# 1. Write a program to accept percentage from the user and display the grade according to the following criteria:\n",
    "\n",
    "## Marks ---------------- Grade\n",
    "## >90----------------------- A\n",
    "## >80 and <=90---------B\n",
    "## >=60 and <=80-------C\n",
    "## below 60----------------D"
   ]
  },
  {
   "cell_type": "code",
   "execution_count": 5,
   "id": "f0a3bb79",
   "metadata": {},
   "outputs": [
    {
     "name": "stdout",
     "output_type": "stream",
     "text": [
      "Enter your percentage:\n",
      "None90\n",
      "Grade:B\n"
     ]
    }
   ],
   "source": [
    "percentage=float(input(print(\"Enter your percentage:\")))\n",
    "if percentage>90:\n",
    "    print(\"Grade:A\")\n",
    "elif percentage>80 and percentage<=90:\n",
    "    print(\"Grade:B\")\n",
    "elif percentage>=60 and percentage<=80:\n",
    "    print(\"Grade:C\")\n",
    "else:\n",
    "    print(\"Grade:D\")\n",
    "    "
   ]
  },
  {
   "cell_type": "markdown",
   "id": "b91f5f20",
   "metadata": {},
   "source": [
    "# 2.Write a program to accept the cost price of a bike and display the road tax to be paid according to the following criteria:\n",
    "\n",
    "## Tax------------------Cost Price(in Rs)\n",
    "##  15%---------------->100000\n",
    "##  10%---------------->50000 and <=100000\n",
    "##   5%-----------------<=50000"
   ]
  },
  {
   "cell_type": "code",
   "execution_count": 8,
   "id": "c4f0df2f",
   "metadata": {},
   "outputs": [
    {
     "name": "stdout",
     "output_type": "stream",
     "text": [
      "Enter the cost of bike:49999\n",
      "Road tax to be paid: 2499.9500000000003\n"
     ]
    }
   ],
   "source": [
    "bike_price=int(input(\"Enter the cost of bike:\"))\n",
    "if bike_price>100000:\n",
    "    print(\"Road tax to be paid:\",bike_price*0.15)\n",
    "elif bike_price>50000 and bike_price<=100000:\n",
    "    print(\"Road tax to be paid:\",bike_price*0.10)\n",
    "else:\n",
    "    print(\"Road tax to be paid:\",bike_price*0.05)"
   ]
  },
  {
   "cell_type": "markdown",
   "id": "74266d57",
   "metadata": {},
   "source": [
    "# 3.Accept any city from the user and display monuments of that city.\n",
    "## City----------------Monument\n",
    "## Delhi--------------Red Fort\n",
    "## Agra--------------Taj Mahal\n",
    "## Jaipur------------Jal Mahal"
   ]
  },
  {
   "cell_type": "code",
   "execution_count": 6,
   "id": "0161374b",
   "metadata": {},
   "outputs": [
    {
     "name": "stdout",
     "output_type": "stream",
     "text": [
      "1.Delhi \n",
      " 2.Agra \n",
      " 3.Jaipur\n",
      "Enter your choice to get Monument:1\n",
      "Monument:Red Fort\n"
     ]
    }
   ],
   "source": [
    "print(\"1.Delhi \\n 2.Agra \\n 3.Jaipur\")\n",
    "city=int(input(\"Enter your choice to get Monument:\"))\n",
    "if city==1:\n",
    "    print(\"Monument:Red Fort\")\n",
    "elif city==2:\n",
    "    print(\"Monument:Taj Mahal\")\n",
    "else:\n",
    "    print(\"Monument:Jal Mahal\")"
   ]
  },
  {
   "cell_type": "markdown",
   "id": "412b8a74",
   "metadata": {},
   "source": [
    "# 4.Check how many times a given number can be divided by 3 before it is less than or equal to 10"
   ]
  },
  {
   "cell_type": "code",
   "execution_count": 16,
   "id": "e1042d02",
   "metadata": {},
   "outputs": [
    {
     "name": "stdout",
     "output_type": "stream",
     "text": [
      "Enter a number: 40\n",
      "The number can be divided  2 times before it is less than or equal to 10.\n"
     ]
    }
   ],
   "source": [
    "number = int(input(\"Enter a number: \"))\n",
    "count = 0\n",
    "\n",
    "while number > 10:\n",
    "    number /= 3\n",
    "    count += 1\n",
    "\n",
    "print(f\"The number can be divided  {count} times before it is less than or equal to 10.\")\n",
    "  "
   ]
  },
  {
   "cell_type": "markdown",
   "id": "2fcdf478",
   "metadata": {},
   "source": [
    "# 5.Why and when to use while loop in python , give a detailed description with example."
   ]
  },
  {
   "cell_type": "markdown",
   "id": "c8217c58",
   "metadata": {},
   "source": [
    "### A while loop in Python is a control structure that allows you to execute a block of code repeatedly as long as a certain condition is true. It is useful when you need to repeat an action a certain number of times or until a certain condition is met.\n",
    "\n",
    "### The general syntax of a while loop in Python is as follows:"
   ]
  },
  {
   "cell_type": "code",
   "execution_count": null,
   "id": "091219de",
   "metadata": {},
   "outputs": [],
   "source": [
    "while True:\n",
    "    pass\n",
    "         \n"
   ]
  },
  {
   "cell_type": "markdown",
   "id": "f234cf30",
   "metadata": {},
   "source": [
    "### While loops are useful when you need to repeat a block of code until a certain condition is met. However, you should be careful to ensure that the loop will eventually terminate, or else it will execute indefinitely (known as an infinite loop) and can cause your program to hang or crash.\n",
    "\n",
    "### Looping through a sequence: You can use a while loop to iterate over a sequence of elements until a certain condition is met. For example, you can use a while loop to read lines from a file until the end of the file is reached.\n",
    "\n",
    "### Input validation: You can use a while loop to validate user input until the user provides a valid input. For example, you can use a while loop to prompt the user to enter a positive integer.\n",
    "\n",
    "### Counting and summing: You can use a while loop to count and sum numbers until a certain condition is met. For example, you can use a while loop to count the number of even numbers in a list."
   ]
  },
  {
   "cell_type": "code",
   "execution_count": 3,
   "id": "d75eb8e8",
   "metadata": {},
   "outputs": [
    {
     "name": "stdout",
     "output_type": "stream",
     "text": [
      "0\n",
      "1\n",
      "2\n",
      "3\n",
      "4\n",
      "5\n",
      "6\n",
      "7\n",
      "8\n",
      "9\n",
      "10\n"
     ]
    }
   ],
   "source": [
    "count = 0\n",
    "while count < 11:\n",
    "    print(count)\n",
    "    count += 1\n"
   ]
  },
  {
   "cell_type": "markdown",
   "id": "a751b431",
   "metadata": {},
   "source": [
    "# 6.Use nested loop to print 3 different pattern."
   ]
  },
  {
   "cell_type": "code",
   "execution_count": 12,
   "id": "de5c7fd2",
   "metadata": {},
   "outputs": [
    {
     "name": "stdout",
     "output_type": "stream",
     "text": [
      "    $\n",
      "   $$$\n",
      "  $$$$$\n",
      " $$$$$$$\n",
      "$$$$$$$$$\n"
     ]
    }
   ],
   "source": [
    "rows = 5\n",
    "\n",
    "i = 0\n",
    "while i < rows:\n",
    "    j = 0\n",
    "    while j < rows-i-1:\n",
    "        print(\" \", end=\"\")\n",
    "        j += 1\n",
    "    j = 0\n",
    "    while j < 2*i+1:\n",
    "        print(\"$\", end=\"\")\n",
    "        j += 1\n",
    "    print()\n",
    "    i += 1\n",
    "\n"
   ]
  },
  {
   "cell_type": "code",
   "execution_count": 11,
   "id": "fea635cb",
   "metadata": {},
   "outputs": [
    {
     "name": "stdout",
     "output_type": "stream",
     "text": [
      "$$$$$\n",
      "$$$$$\n",
      "$$$$$\n",
      "$$$$$\n",
      "$$$$$\n"
     ]
    }
   ],
   "source": [
    "rows = 5\n",
    "cols = 5\n",
    "\n",
    "i = 0\n",
    "while i < rows:\n",
    "    j = 0\n",
    "    while j < cols:\n",
    "        print(\"$\", end=\"\")\n",
    "        j += 1\n",
    "    print()\n",
    "    i += 1\n",
    "\n"
   ]
  },
  {
   "cell_type": "code",
   "execution_count": 10,
   "id": "42104577",
   "metadata": {},
   "outputs": [
    {
     "name": "stdout",
     "output_type": "stream",
     "text": [
      "$$$$$\n",
      "$   $\n",
      "$   $\n",
      "$   $\n",
      "$$$$$\n"
     ]
    }
   ],
   "source": [
    "rows = 5\n",
    "cols = 5\n",
    "\n",
    "i = 0\n",
    "while i < rows:\n",
    "    j = 0\n",
    "    while j < cols:\n",
    "        if i == 0 or i == rows-1 or j == 0 or j == cols-1:\n",
    "            print(\"$\", end=\"\")\n",
    "        else:\n",
    "            print(\" \", end=\"\")\n",
    "        j += 1\n",
    "    print()\n",
    "    i += 1\n",
    "\n"
   ]
  },
  {
   "cell_type": "markdown",
   "id": "c6f0f4d4",
   "metadata": {},
   "source": [
    "# 7.Reverse a while loop to display numbers from 10 to 1."
   ]
  },
  {
   "cell_type": "code",
   "execution_count": 14,
   "id": "319e5bce",
   "metadata": {},
   "outputs": [
    {
     "name": "stdout",
     "output_type": "stream",
     "text": [
      "10\n",
      "9\n",
      "8\n",
      "7\n",
      "6\n",
      "5\n",
      "4\n",
      "3\n",
      "2\n",
      "1\n"
     ]
    }
   ],
   "source": [
    "number = 10\n",
    "\n",
    "while number >= 1:\n",
    "    print(number)\n",
    "    number =number-1\n"
   ]
  },
  {
   "cell_type": "markdown",
   "id": "4964b545",
   "metadata": {},
   "source": [
    "# 8.Reverse a while loop to display numbers from 10 to 1."
   ]
  },
  {
   "cell_type": "code",
   "execution_count": 15,
   "id": "b4f95c27",
   "metadata": {},
   "outputs": [
    {
     "name": "stdout",
     "output_type": "stream",
     "text": [
      "10\n",
      "9\n",
      "8\n",
      "7\n",
      "6\n",
      "5\n",
      "4\n",
      "3\n",
      "2\n",
      "1\n"
     ]
    }
   ],
   "source": [
    "number = 10\n",
    "\n",
    "while number >= 1:\n",
    "    print(number)\n",
    "    number =number-1\n"
   ]
  },
  {
   "cell_type": "code",
   "execution_count": null,
   "id": "8b16dd08",
   "metadata": {},
   "outputs": [],
   "source": []
  }
 ],
 "metadata": {
  "kernelspec": {
   "display_name": "Python 3 (ipykernel)",
   "language": "python",
   "name": "python3"
  },
  "language_info": {
   "codemirror_mode": {
    "name": "ipython",
    "version": 3
   },
   "file_extension": ".py",
   "mimetype": "text/x-python",
   "name": "python",
   "nbconvert_exporter": "python",
   "pygments_lexer": "ipython3",
   "version": "3.9.13"
  }
 },
 "nbformat": 4,
 "nbformat_minor": 5
}
